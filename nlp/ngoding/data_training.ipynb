{
 "cells": [
  {
   "cell_type": "code",
   "execution_count": 11,
   "metadata": {},
   "outputs": [],
   "source": [
    "import math\n",
    "import random\n",
    "from collections import defaultdict\n",
    "from pprint import pprint\n",
    "\n",
    "import warnings\n",
    "warnings.filterwarnings(action='ignore')\n",
    "\n",
    "import seaborn as sns\n",
    "import matplotlib.pyplot as plt\n",
    "import numpy as np\n",
    "import pandas as pd\n",
    "\n",
    "sns.set_style(style='white')\n",
    "sns.set_context(context='notebook', font_scale=1.3, rc={'figure.figsize':(16,9)})"
   ]
  },
  {
   "cell_type": "code",
   "execution_count": 12,
   "metadata": {},
   "outputs": [],
   "source": [
    "dataku = pd.read_csv('lemma.csv')"
   ]
  },
  {
   "cell_type": "code",
   "execution_count": 13,
   "metadata": {},
   "outputs": [
    {
     "data": {
      "text/plain": [
       "label\n",
       "1    275\n",
       "0    234\n",
       "2    195\n",
       "Name: count, dtype: int64"
      ]
     },
     "execution_count": 13,
     "metadata": {},
     "output_type": "execute_result"
    }
   ],
   "source": [
    "dataku.label.value_counts()"
   ]
  },
  {
   "cell_type": "code",
   "execution_count": 14,
   "metadata": {},
   "outputs": [],
   "source": [
    "#proses training\n",
    "import os\n",
    "import pickle\n",
    "from sklearn.pipeline import Pipeline\n",
    "from sklearn.svm import SVC\n",
    "from sklearn.feature_extraction.text import TfidfVectorizer, TfidfTransformer, CountVectorizer\n",
    "from sklearn.preprocessing import LabelEncoder\n",
    "\n"
   ]
  },
  {
   "cell_type": "code",
   "execution_count": 15,
   "metadata": {},
   "outputs": [
    {
     "data": {
      "text/plain": [
       "0      Negatif\n",
       "1       Netral\n",
       "2      Negatif\n",
       "3       Netral\n",
       "4      Positif\n",
       "        ...   \n",
       "699    Positif\n",
       "700     Netral\n",
       "701    Positif\n",
       "702    Positif\n",
       "703     Netral\n",
       "Name: label, Length: 704, dtype: object"
      ]
     },
     "execution_count": 15,
     "metadata": {},
     "output_type": "execute_result"
    }
   ],
   "source": [
    "dictio_label ={\n",
    "    0:\"Netral\",\n",
    "    1:\"Positif\",\n",
    "    2:\"Negatif\"\n",
    "}\n",
    "\n",
    "dataku[\"label\"]=dataku['label'].map(dictio_label)\n",
    "dataku.label"
   ]
  },
  {
   "cell_type": "code",
   "execution_count": 16,
   "metadata": {},
   "outputs": [],
   "source": [
    "\n",
    "\n",
    "dataku = dataku.dropna()\n",
    "dataku.isnull().sum()\n",
    "\n",
    "x = dataku.lemma\n",
    "y = dataku.label\n"
   ]
  },
  {
   "cell_type": "code",
   "execution_count": 17,
   "metadata": {},
   "outputs": [
    {
     "name": "stdout",
     "output_type": "stream",
     "text": [
      "selesai\n"
     ]
    }
   ],
   "source": [
    "encoder = LabelEncoder()\n",
    "train_y = encoder.fit_transform(y)\n",
    "\n",
    "tfidf_vect = TfidfVectorizer()\n",
    "tfidf_vect.fit(x)\n",
    "train_x_tfidf = tfidf_vect.transform(x)\n",
    "\n",
    "SVM = SVC(decision_function_shape='ovo')\n",
    "text_pickle =SVM.fit(train_x_tfidf, train_y)\n",
    "\n",
    "files = open('SVM_classifier_24.pickle','wb')\n",
    "pickle.dump(text_pickle, files)\n",
    "files.close()\n",
    "print(\"selesai\")"
   ]
  },
  {
   "cell_type": "code",
   "execution_count": 18,
   "metadata": {},
   "outputs": [
    {
     "data": {
      "text/html": [
       "<style>#sk-container-id-2 {color: black;}#sk-container-id-2 pre{padding: 0;}#sk-container-id-2 div.sk-toggleable {background-color: white;}#sk-container-id-2 label.sk-toggleable__label {cursor: pointer;display: block;width: 100%;margin-bottom: 0;padding: 0.3em;box-sizing: border-box;text-align: center;}#sk-container-id-2 label.sk-toggleable__label-arrow:before {content: \"▸\";float: left;margin-right: 0.25em;color: #696969;}#sk-container-id-2 label.sk-toggleable__label-arrow:hover:before {color: black;}#sk-container-id-2 div.sk-estimator:hover label.sk-toggleable__label-arrow:before {color: black;}#sk-container-id-2 div.sk-toggleable__content {max-height: 0;max-width: 0;overflow: hidden;text-align: left;background-color: #f0f8ff;}#sk-container-id-2 div.sk-toggleable__content pre {margin: 0.2em;color: black;border-radius: 0.25em;background-color: #f0f8ff;}#sk-container-id-2 input.sk-toggleable__control:checked~div.sk-toggleable__content {max-height: 200px;max-width: 100%;overflow: auto;}#sk-container-id-2 input.sk-toggleable__control:checked~label.sk-toggleable__label-arrow:before {content: \"▾\";}#sk-container-id-2 div.sk-estimator input.sk-toggleable__control:checked~label.sk-toggleable__label {background-color: #d4ebff;}#sk-container-id-2 div.sk-label input.sk-toggleable__control:checked~label.sk-toggleable__label {background-color: #d4ebff;}#sk-container-id-2 input.sk-hidden--visually {border: 0;clip: rect(1px 1px 1px 1px);clip: rect(1px, 1px, 1px, 1px);height: 1px;margin: -1px;overflow: hidden;padding: 0;position: absolute;width: 1px;}#sk-container-id-2 div.sk-estimator {font-family: monospace;background-color: #f0f8ff;border: 1px dotted black;border-radius: 0.25em;box-sizing: border-box;margin-bottom: 0.5em;}#sk-container-id-2 div.sk-estimator:hover {background-color: #d4ebff;}#sk-container-id-2 div.sk-parallel-item::after {content: \"\";width: 100%;border-bottom: 1px solid gray;flex-grow: 1;}#sk-container-id-2 div.sk-label:hover label.sk-toggleable__label {background-color: #d4ebff;}#sk-container-id-2 div.sk-serial::before {content: \"\";position: absolute;border-left: 1px solid gray;box-sizing: border-box;top: 0;bottom: 0;left: 50%;z-index: 0;}#sk-container-id-2 div.sk-serial {display: flex;flex-direction: column;align-items: center;background-color: white;padding-right: 0.2em;padding-left: 0.2em;position: relative;}#sk-container-id-2 div.sk-item {position: relative;z-index: 1;}#sk-container-id-2 div.sk-parallel {display: flex;align-items: stretch;justify-content: center;background-color: white;position: relative;}#sk-container-id-2 div.sk-item::before, #sk-container-id-2 div.sk-parallel-item::before {content: \"\";position: absolute;border-left: 1px solid gray;box-sizing: border-box;top: 0;bottom: 0;left: 50%;z-index: -1;}#sk-container-id-2 div.sk-parallel-item {display: flex;flex-direction: column;z-index: 1;position: relative;background-color: white;}#sk-container-id-2 div.sk-parallel-item:first-child::after {align-self: flex-end;width: 50%;}#sk-container-id-2 div.sk-parallel-item:last-child::after {align-self: flex-start;width: 50%;}#sk-container-id-2 div.sk-parallel-item:only-child::after {width: 0;}#sk-container-id-2 div.sk-dashed-wrapped {border: 1px dashed gray;margin: 0 0.4em 0.5em 0.4em;box-sizing: border-box;padding-bottom: 0.4em;background-color: white;}#sk-container-id-2 div.sk-label label {font-family: monospace;font-weight: bold;display: inline-block;line-height: 1.2em;}#sk-container-id-2 div.sk-label-container {text-align: center;}#sk-container-id-2 div.sk-container {/* jupyter's `normalize.less` sets `[hidden] { display: none; }` but bootstrap.min.css set `[hidden] { display: none !important; }` so we also need the `!important` here to be able to override the default hidden behavior on the sphinx rendered scikit-learn.org. See: https://github.com/scikit-learn/scikit-learn/issues/21755 */display: inline-block !important;position: relative;}#sk-container-id-2 div.sk-text-repr-fallback {display: none;}</style><div id=\"sk-container-id-2\" class=\"sk-top-container\"><div class=\"sk-text-repr-fallback\"><pre>SVC(decision_function_shape=&#x27;ovo&#x27;)</pre><b>In a Jupyter environment, please rerun this cell to show the HTML representation or trust the notebook. <br />On GitHub, the HTML representation is unable to render, please try loading this page with nbviewer.org.</b></div><div class=\"sk-container\" hidden><div class=\"sk-item\"><div class=\"sk-estimator sk-toggleable\"><input class=\"sk-toggleable__control sk-hidden--visually\" id=\"sk-estimator-id-2\" type=\"checkbox\" checked><label for=\"sk-estimator-id-2\" class=\"sk-toggleable__label sk-toggleable__label-arrow\">SVC</label><div class=\"sk-toggleable__content\"><pre>SVC(decision_function_shape=&#x27;ovo&#x27;)</pre></div></div></div></div></div>"
      ],
      "text/plain": [
       "SVC(decision_function_shape='ovo')"
      ]
     },
     "execution_count": 18,
     "metadata": {},
     "output_type": "execute_result"
    }
   ],
   "source": [
    "model = open('SVM_classifier_24.pickle', 'rb')\n",
    "svm_classifier = pickle.load(model)\n",
    "svm_classifier"
   ]
  },
  {
   "cell_type": "code",
   "execution_count": 19,
   "metadata": {},
   "outputs": [
    {
     "name": "stdout",
     "output_type": "stream",
     "text": [
      "  (0, 298)\t0.31398902087385483\n",
      "  (0, 536)\t0.3702590525826746\n",
      "  (0, 469)\t0.3702590525826746\n",
      "  (0, 506)\t0.34095306078162635\n",
      "  (0, 653)\t0.3304932995637637\n",
      "  (0, 395)\t0.3072318252347618\n",
      "  (0, 933)\t0.3304932995637637\n",
      "  (0, 11)\t0.321649697463621\n",
      "  (0, 297)\t0.062952476436725\n",
      "  (0, 873)\t0.30118730776271546\n",
      "  (1, 688)\t0.2937241608778118\n",
      "  (1, 784)\t0.3267418423316161\n",
      "  (1, 320)\t0.25509594985534795\n",
      "  (1, 567)\t0.2937241608778118\n",
      "  (1, 867)\t0.28309484158979076\n",
      "  (1, 503)\t0.28309484158979076\n",
      "  (1, 655)\t0.3267418423316161\n",
      "  (1, 327)\t0.28309484158979076\n",
      "  (1, 119)\t0.25509594985534795\n",
      "  (1, 791)\t0.3267418423316161\n",
      "  (1, 11)\t0.2670671732411528\n",
      "  (1, 297)\t0.05226972095127789\n",
      "  (1, 873)\t0.25007716013598646\n",
      "  (2, 992)\t0.44368376175643987\n",
      "  (2, 998)\t0.44368376175643987\n",
      "  :\t:\n",
      "  (696, 297)\t0.051527571586569704\n",
      "  (697, 92)\t0.6184108466381596\n",
      "  (697, 91)\t0.5002032900690235\n",
      "  (697, 637)\t0.5960317331173387\n",
      "  (697, 297)\t0.11004938201344236\n",
      "  (698, 865)\t0.6716931671007793\n",
      "  (698, 311)\t0.5696127573235762\n",
      "  (698, 879)\t0.4597034235606768\n",
      "  (698, 297)\t0.11420314501339383\n",
      "  (699, 607)\t0.3102137332764734\n",
      "  (699, 783)\t0.3102137332764734\n",
      "  (699, 952)\t0.3102137332764734\n",
      "  (699, 996)\t0.3102137332764734\n",
      "  (699, 521)\t0.29187662428308625\n",
      "  (699, 80)\t0.29187662428308625\n",
      "  (699, 453)\t0.29187662428308625\n",
      "  (699, 382)\t0.2687745990969557\n",
      "  (699, 518)\t0.2255617130519675\n",
      "  (699, 443)\t0.24219202041476148\n",
      "  (699, 874)\t0.20839934219463171\n",
      "  (699, 371)\t0.20176921834104355\n",
      "  (699, 369)\t0.17587710918364274\n",
      "  (699, 315)\t0.21908999522863096\n",
      "  (699, 630)\t0.11037221737480042\n",
      "  (699, 297)\t0.04962567743974076\n"
     ]
    }
   ],
   "source": [
    "#Ekstrakasi fitur\n",
    "from imblearn.over_sampling import SMOTE\n",
    "from sklearn.feature_extraction.text import TfidfVectorizer,TfidfTransformer,CountVectorizer\n",
    "\n",
    "vect = TfidfVectorizer(max_features=1000, binary=True)\n",
    "X = vect.fit_transform(dataku.lemma)\n",
    "\n",
    "print(X)\n",
    "\n",
    "\n",
    "#sm=SMOTE()"
   ]
  },
  {
   "cell_type": "code",
   "execution_count": 20,
   "metadata": {},
   "outputs": [
    {
     "name": "stdout",
     "output_type": "stream",
     "text": [
      "              precision    recall  f1-score   support\n",
      "\n",
      "     Negatif       0.56      0.48      0.51        42\n",
      "      Netral       0.56      0.59      0.57        46\n",
      "     Positif       0.70      0.75      0.72        52\n",
      "\n",
      "    accuracy                           0.61       140\n",
      "   macro avg       0.60      0.60      0.60       140\n",
      "weighted avg       0.61      0.61      0.61       140\n",
      "\n",
      "\n",
      "average accuracy across fold : 62.928571%\n",
      "\n",
      "average F1-score across fold : 62.665007%\n",
      "\n",
      "average Confusion Matrix across fold : \n",
      " [[20.7 13.2  8.1]\n",
      " [ 8.3 28.9  7.6]\n",
      " [ 5.6  9.1 38.5]]\n"
     ]
    }
   ],
   "source": [
    "from sklearn.model_selection import ShuffleSplit\n",
    "from sklearn.metrics import classification_report, accuracy_score, f1_score, confusion_matrix\n",
    "import seaborn as sns\n",
    "import matplotlib.pyplot as plt\n",
    "sns.set()\n",
    "\n",
    "X = dataku.lemma\n",
    "Y = dataku.label\n",
    "\n",
    "ss = ShuffleSplit(n_splits=10, test_size=0.2)\n",
    "sm = SMOTE()\n",
    "\n",
    "accs = []\n",
    "fis = []\n",
    "cms = []\n",
    "\n",
    "for train_index, test_index in ss.split(X):\n",
    "    X_train, X_test = X.iloc[train_index], X.iloc[test_index]\n",
    "    y_train, y_test = Y.iloc[train_index], Y.iloc[test_index]\n",
    "\n",
    "    X_train_vect = vect.fit_transform(X_train)\n",
    "    X_test_vect = vect.transform(X_test)\n",
    "\n",
    "    X_train_res, y_train_res = sm.fit_resample(X_train_vect, y_train)\n",
    "    \n",
    "    SVM.fit(X_train_res, y_train_res)\n",
    "    y_pred = SVM.predict(X_test_vect)\n",
    "\n",
    "    accs.append(accuracy_score(y_test,y_pred))\n",
    "    fis.append(f1_score(y_test, y_pred, average='weighted'))\n",
    "    cms.append(confusion_matrix(y_test,y_pred))\n",
    "\n",
    "print(classification_report(y_test,y_pred))\n",
    "print(\"\\naverage accuracy across fold : {:2f}%\".format(sum(accs)/len(accs) *100))\n",
    "print(\"\\naverage F1-score across fold : {:2f}%\".format(sum(fis)/len(fis) *100))\n",
    "print(\"\\naverage Confusion Matrix across fold : \\n {}\".format(sum(cms)/len(cms)))"
   ]
  },
  {
   "cell_type": "code",
   "execution_count": null,
   "metadata": {},
   "outputs": [],
   "source": []
  }
 ],
 "metadata": {
  "kernelspec": {
   "display_name": ".env",
   "language": "python",
   "name": "python3"
  },
  "language_info": {
   "codemirror_mode": {
    "name": "ipython",
    "version": 3
   },
   "file_extension": ".py",
   "mimetype": "text/x-python",
   "name": "python",
   "nbconvert_exporter": "python",
   "pygments_lexer": "ipython3",
   "version": "3.11.4"
  },
  "orig_nbformat": 4
 },
 "nbformat": 4,
 "nbformat_minor": 2
}
