{
 "cells": [
  {
   "cell_type": "code",
   "execution_count": 21,
   "metadata": {},
   "outputs": [],
   "source": [
    "import seaborn as sns #library untuk memperindah visualisasi data\n",
    "import matplotlib.pyplot as plt\n",
    "import pandas as pd #library untuk mengolah data\n",
    "\n",
    "#Setup Seaborn\n",
    "sns.set_style(style='white')\n",
    "sns.set_context(context='notebook', font_scale=1.3, rc={'figure.figsize':(16,9)})"
   ]
  },
  {
   "cell_type": "code",
   "execution_count": 22,
   "metadata": {},
   "outputs": [
    {
     "data": {
      "text/plain": [
       "label\n",
       "1    502\n",
       "2    280\n",
       "0    240\n",
       "Name: count, dtype: int64"
      ]
     },
     "execution_count": 22,
     "metadata": {},
     "output_type": "execute_result"
    }
   ],
   "source": [
    "dataku = pd.read_csv('lemma.csv') #Membaca File CSV\n",
    "dataku.label.value_counts() #MEnghitung Jumlah record berdasarkan label"
   ]
  },
  {
   "cell_type": "code",
   "execution_count": 23,
   "metadata": {},
   "outputs": [],
   "source": [
    "#proses training\n",
    "import pickle #library menyimpan model\n",
    "from sklearn.svm import SVC #library metode yang akan dipakai untuk membuat model\n",
    "from sklearn.feature_extraction.text import TfidfVectorizer #library untuk merubah data text kedalam bentuk vektor\n",
    "from sklearn.preprocessing import LabelEncoder #library untuk merubah data label string kedalam bentuk numerik"
   ]
  },
  {
   "cell_type": "code",
   "execution_count": 24,
   "metadata": {},
   "outputs": [
    {
     "data": {
      "text/plain": [
       "0       Negatif\n",
       "1        Netral\n",
       "2       Negatif\n",
       "3        Netral\n",
       "4       Positif\n",
       "         ...   \n",
       "1017    Negatif\n",
       "1018    Negatif\n",
       "1019     Netral\n",
       "1020    Negatif\n",
       "1021     Netral\n",
       "Name: label, Length: 1022, dtype: object"
      ]
     },
     "execution_count": 24,
     "metadata": {},
     "output_type": "execute_result"
    }
   ],
   "source": [
    "#Merubah data label\n",
    "dictio_label ={\n",
    "    0:\"Netral\",\n",
    "    1:\"Positif\",\n",
    "    2:\"Negatif\"\n",
    "}\n",
    "\n",
    "dataku[\"label\"]=dataku['label'].map(dictio_label)\n",
    "dataku.label"
   ]
  },
  {
   "cell_type": "code",
   "execution_count": 25,
   "metadata": {},
   "outputs": [],
   "source": [
    "dataku = dataku.dropna() #mendrop record yang terdapat data kosong\n",
    "dataku.isnull().sum() #menghitung data kosong per kolom\n",
    "\n",
    "x = dataku.lemma #mengambil data pada kolom lemma\n",
    "y = dataku.label #mengambil data pada kolom label"
   ]
  },
  {
   "cell_type": "code",
   "execution_count": 26,
   "metadata": {},
   "outputs": [
    {
     "name": "stdout",
     "output_type": "stream",
     "text": [
      "selesai\n"
     ]
    }
   ],
   "source": [
    "encoder = LabelEncoder() #Memanggil class encoder\n",
    "train_y = encoder.fit_transform(y) #encode data kolom label\n",
    "\n",
    "tfidf_vect = TfidfVectorizer() #memanggil class untuk vektorizer\n",
    "\n",
    "#Transform data pada kolom lemma kedalam bentuk vektor\n",
    "tfidf_vect.fit(x) \n",
    "train_x_tfidf = tfidf_vect.transform(x)\n",
    "\n",
    "SVM = SVC(decision_function_shape='ovo') #memanggil metode training\n",
    "text_pickle =SVM.fit(train_x_tfidf, train_y) #membuat model\n",
    "\n",
    "#save model\n",
    "files = open('SVM_classifier_24.pickle','wb')\n",
    "pickle.dump(text_pickle, files)\n",
    "files.close()\n",
    "print(\"selesai\")"
   ]
  },
  {
   "cell_type": "code",
   "execution_count": 27,
   "metadata": {},
   "outputs": [
    {
     "data": {
      "text/html": [
       "<style>#sk-container-id-2 {color: black;}#sk-container-id-2 pre{padding: 0;}#sk-container-id-2 div.sk-toggleable {background-color: white;}#sk-container-id-2 label.sk-toggleable__label {cursor: pointer;display: block;width: 100%;margin-bottom: 0;padding: 0.3em;box-sizing: border-box;text-align: center;}#sk-container-id-2 label.sk-toggleable__label-arrow:before {content: \"▸\";float: left;margin-right: 0.25em;color: #696969;}#sk-container-id-2 label.sk-toggleable__label-arrow:hover:before {color: black;}#sk-container-id-2 div.sk-estimator:hover label.sk-toggleable__label-arrow:before {color: black;}#sk-container-id-2 div.sk-toggleable__content {max-height: 0;max-width: 0;overflow: hidden;text-align: left;background-color: #f0f8ff;}#sk-container-id-2 div.sk-toggleable__content pre {margin: 0.2em;color: black;border-radius: 0.25em;background-color: #f0f8ff;}#sk-container-id-2 input.sk-toggleable__control:checked~div.sk-toggleable__content {max-height: 200px;max-width: 100%;overflow: auto;}#sk-container-id-2 input.sk-toggleable__control:checked~label.sk-toggleable__label-arrow:before {content: \"▾\";}#sk-container-id-2 div.sk-estimator input.sk-toggleable__control:checked~label.sk-toggleable__label {background-color: #d4ebff;}#sk-container-id-2 div.sk-label input.sk-toggleable__control:checked~label.sk-toggleable__label {background-color: #d4ebff;}#sk-container-id-2 input.sk-hidden--visually {border: 0;clip: rect(1px 1px 1px 1px);clip: rect(1px, 1px, 1px, 1px);height: 1px;margin: -1px;overflow: hidden;padding: 0;position: absolute;width: 1px;}#sk-container-id-2 div.sk-estimator {font-family: monospace;background-color: #f0f8ff;border: 1px dotted black;border-radius: 0.25em;box-sizing: border-box;margin-bottom: 0.5em;}#sk-container-id-2 div.sk-estimator:hover {background-color: #d4ebff;}#sk-container-id-2 div.sk-parallel-item::after {content: \"\";width: 100%;border-bottom: 1px solid gray;flex-grow: 1;}#sk-container-id-2 div.sk-label:hover label.sk-toggleable__label {background-color: #d4ebff;}#sk-container-id-2 div.sk-serial::before {content: \"\";position: absolute;border-left: 1px solid gray;box-sizing: border-box;top: 0;bottom: 0;left: 50%;z-index: 0;}#sk-container-id-2 div.sk-serial {display: flex;flex-direction: column;align-items: center;background-color: white;padding-right: 0.2em;padding-left: 0.2em;position: relative;}#sk-container-id-2 div.sk-item {position: relative;z-index: 1;}#sk-container-id-2 div.sk-parallel {display: flex;align-items: stretch;justify-content: center;background-color: white;position: relative;}#sk-container-id-2 div.sk-item::before, #sk-container-id-2 div.sk-parallel-item::before {content: \"\";position: absolute;border-left: 1px solid gray;box-sizing: border-box;top: 0;bottom: 0;left: 50%;z-index: -1;}#sk-container-id-2 div.sk-parallel-item {display: flex;flex-direction: column;z-index: 1;position: relative;background-color: white;}#sk-container-id-2 div.sk-parallel-item:first-child::after {align-self: flex-end;width: 50%;}#sk-container-id-2 div.sk-parallel-item:last-child::after {align-self: flex-start;width: 50%;}#sk-container-id-2 div.sk-parallel-item:only-child::after {width: 0;}#sk-container-id-2 div.sk-dashed-wrapped {border: 1px dashed gray;margin: 0 0.4em 0.5em 0.4em;box-sizing: border-box;padding-bottom: 0.4em;background-color: white;}#sk-container-id-2 div.sk-label label {font-family: monospace;font-weight: bold;display: inline-block;line-height: 1.2em;}#sk-container-id-2 div.sk-label-container {text-align: center;}#sk-container-id-2 div.sk-container {/* jupyter's `normalize.less` sets `[hidden] { display: none; }` but bootstrap.min.css set `[hidden] { display: none !important; }` so we also need the `!important` here to be able to override the default hidden behavior on the sphinx rendered scikit-learn.org. See: https://github.com/scikit-learn/scikit-learn/issues/21755 */display: inline-block !important;position: relative;}#sk-container-id-2 div.sk-text-repr-fallback {display: none;}</style><div id=\"sk-container-id-2\" class=\"sk-top-container\"><div class=\"sk-text-repr-fallback\"><pre>SVC(decision_function_shape=&#x27;ovo&#x27;)</pre><b>In a Jupyter environment, please rerun this cell to show the HTML representation or trust the notebook. <br />On GitHub, the HTML representation is unable to render, please try loading this page with nbviewer.org.</b></div><div class=\"sk-container\" hidden><div class=\"sk-item\"><div class=\"sk-estimator sk-toggleable\"><input class=\"sk-toggleable__control sk-hidden--visually\" id=\"sk-estimator-id-2\" type=\"checkbox\" checked><label for=\"sk-estimator-id-2\" class=\"sk-toggleable__label sk-toggleable__label-arrow\">SVC</label><div class=\"sk-toggleable__content\"><pre>SVC(decision_function_shape=&#x27;ovo&#x27;)</pre></div></div></div></div></div>"
      ],
      "text/plain": [
       "SVC(decision_function_shape='ovo')"
      ]
     },
     "execution_count": 27,
     "metadata": {},
     "output_type": "execute_result"
    }
   ],
   "source": [
    "#Loading model yang sudah disimpan\n",
    "model = open('SVM_classifier_24.pickle', 'rb') \n",
    "svm_classifier = pickle.load(model)\n",
    "svm_classifier"
   ]
  },
  {
   "cell_type": "code",
   "execution_count": 28,
   "metadata": {},
   "outputs": [
    {
     "name": "stdout",
     "output_type": "stream",
     "text": [
      "  (0, 246)\t0.34784398131795813\n",
      "  (0, 451)\t0.4062029592835461\n",
      "  (0, 496)\t0.34784398131795813\n",
      "  (0, 700)\t0.34784398131795813\n",
      "  (0, 358)\t0.3104419984635892\n",
      "  (0, 920)\t0.36496095827980607\n",
      "  (0, 8)\t0.35578904981582404\n",
      "  (0, 240)\t0.06261927703426774\n",
      "  (0, 850)\t0.3345670225054814\n",
      "  (1, 722)\t0.3437109511464866\n",
      "  (1, 271)\t0.2960699284719949\n",
      "  (1, 608)\t0.3558539170049344\n",
      "  (1, 843)\t0.3437109511464866\n",
      "  (1, 701)\t0.37150892277720765\n",
      "  (1, 280)\t0.3437109511464866\n",
      "  (1, 97)\t0.3008048902213212\n",
      "  (1, 8)\t0.3254008953212399\n",
      "  (1, 240)\t0.05727092731456296\n",
      "  (1, 850)\t0.30599145399388017\n",
      "  (2, 337)\t0.18146669153529005\n",
      "  (2, 983)\t0.43560385458339634\n",
      "  (2, 990)\t0.43560385458339634\n",
      "  (2, 167)\t0.3938562218379441\n",
      "  (2, 927)\t0.43560385458339634\n",
      "  (2, 284)\t0.33866885321669116\n",
      "  :\t:\n",
      "  (1010, 240)\t0.08495333121022464\n",
      "  (1011, 240)\t1.0\n",
      "  (1012, 896)\t0.5727166512555294\n",
      "  (1012, 195)\t0.5979120532248099\n",
      "  (1012, 149)\t0.553173579195811\n",
      "  (1012, 240)\t0.09217269260925547\n",
      "  (1013, 668)\t0.8837026596111464\n",
      "  (1013, 208)\t0.4428089740978435\n",
      "  (1013, 240)\t0.15162394881614785\n",
      "  (1014, 375)\t0.4130435689788813\n",
      "  (1014, 13)\t0.431214506960927\n",
      "  (1014, 268)\t0.39894909448671917\n",
      "  (1014, 923)\t0.38743307031094\n",
      "  (1014, 390)\t0.39894909448671917\n",
      "  (1014, 530)\t0.4130435689788813\n",
      "  (1014, 240)\t0.06647499742544401\n",
      "  (1015, 896)\t0.4651672238991828\n",
      "  (1015, 696)\t0.48563122675885356\n",
      "  (1015, 374)\t0.38132467156306715\n",
      "  (1015, 15)\t0.43632483180604004\n",
      "  (1015, 437)\t0.31293556164635766\n",
      "  (1015, 858)\t0.32933365266694076\n",
      "  (1015, 240)\t0.07486374884747361\n",
      "  (1016, 686)\t0.49669935805345933\n",
      "  (1016, 97)\t0.8679226622858061\n"
     ]
    }
   ],
   "source": [
    "#Ekstrakasi fitur\n",
    "from imblearn.over_sampling import SMOTE #Library untuk fitting data\n",
    "\n",
    "vect = TfidfVectorizer(max_features=1000, binary=True) \n",
    "X = vect.fit_transform(dataku.lemma)\n",
    "\n",
    "print(X)\n",
    "\n",
    "\n",
    "#sm=SMOTE()"
   ]
  },
  {
   "cell_type": "code",
   "execution_count": 31,
   "metadata": {},
   "outputs": [
    {
     "name": "stdout",
     "output_type": "stream",
     "text": [
      "              precision    recall  f1-score   support\n",
      "\n",
      "     Negatif       0.67      0.62      0.65        53\n",
      "      Netral       0.67      0.59      0.62        51\n",
      "     Positif       0.80      0.88      0.84       100\n",
      "\n",
      "    accuracy                           0.74       204\n",
      "   macro avg       0.71      0.70      0.70       204\n",
      "weighted avg       0.73      0.74      0.74       204\n",
      "\n",
      "\n",
      "average accuracy across fold : 73.529412%\n",
      "\n",
      "average F1-score across fold : 73.013197%\n",
      "\n",
      "average Confusion Matrix across fold : \n",
      " [[37.4  8.4 10.1]\n",
      " [12.5 24.   9.9]\n",
      " [ 9.2  3.9 88.6]]\n"
     ]
    }
   ],
   "source": [
    "from sklearn.model_selection import ShuffleSplit #library untuk split data \n",
    "from sklearn.metrics import classification_report, accuracy_score, f1_score, confusion_matrix #library untuk evaluasi\n",
    "\n",
    "\n",
    "X = dataku.lemma\n",
    "Y = dataku.label\n",
    "\n",
    "ss = ShuffleSplit(n_splits=10, test_size=0.2) # mensplit data\n",
    "sm = SMOTE()\n",
    "\n",
    "accs = []\n",
    "fis = []\n",
    "cms = []\n",
    "\n",
    "for train_index, test_index in ss.split(X):\n",
    "    X_train, X_test = X.iloc[train_index], X.iloc[test_index]\n",
    "    y_train, y_test = Y.iloc[train_index], Y.iloc[test_index]\n",
    "\n",
    "    X_train_vect = vect.fit_transform(X_train)\n",
    "    X_test_vect = vect.transform(X_test)\n",
    "\n",
    "    X_train_res, y_train_res = sm.fit_resample(X_train_vect, y_train) #FITTING DATA\n",
    "    \n",
    "    SVM.fit(X_train_res, y_train_res)\n",
    "    y_pred = SVM.predict(X_test_vect)#memprediksi \n",
    "\n",
    "    accs.append(accuracy_score(y_test,y_pred)) #menyimpan akurasi\n",
    "    fis.append(f1_score(y_test, y_pred, average='weighted')) #menyimpan nilai f-1\n",
    "    cms.append(confusion_matrix(y_test,y_pred)) #menyimpan confusion matrix\n",
    "\n",
    "print(classification_report(y_test,y_pred))\n",
    "print(\"\\naverage accuracy across fold : {:2f}%\".format(sum(accs)/len(accs) *100))\n",
    "print(\"\\naverage F1-score across fold : {:2f}%\".format(sum(fis)/len(fis) *100))\n",
    "print(\"\\naverage Confusion Matrix across fold : \\n {}\".format(sum(cms)/len(cms)))"
   ]
  },
  {
   "cell_type": "code",
   "execution_count": null,
   "metadata": {},
   "outputs": [],
   "source": []
  }
 ],
 "metadata": {
  "kernelspec": {
   "display_name": ".env",
   "language": "python",
   "name": "python3"
  },
  "language_info": {
   "codemirror_mode": {
    "name": "ipython",
    "version": 3
   },
   "file_extension": ".py",
   "mimetype": "text/x-python",
   "name": "python",
   "nbconvert_exporter": "python",
   "pygments_lexer": "ipython3",
   "version": "3.11.4"
  },
  "orig_nbformat": 4
 },
 "nbformat": 4,
 "nbformat_minor": 2
}
